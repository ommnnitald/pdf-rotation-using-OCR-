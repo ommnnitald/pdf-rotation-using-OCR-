{
 "cells": [
  {
   "cell_type": "code",
   "execution_count": 1,
   "id": "5582f7f1",
   "metadata": {},
   "outputs": [
    {
     "name": "stdout",
     "output_type": "stream",
     "text": [
      "Observed Rotation Angle for Page 1: 270\n",
      "Output PDF generated successfully.\n"
     ]
    }
   ],
   "source": [
    "import pytesseract\n",
    "from PIL import Image, ImageEnhance, ImageOps\n",
    "from pdf2image import convert_from_path\n",
    "from reportlab.lib.pagesizes import letter\n",
    "from reportlab.pdfgen import canvas\n",
    "import tempfile\n",
    "\n",
    "# Input PDF file path\n",
    "# pdf_path = '/home/om_prakash/Desktop/5/test3.pdf'\n",
    "# pdf_path = '/home/om_prakash/Desktop/5/op1.pdf'\n",
    "# pdf_path = '/home/om_prakash/Desktop/5/output.pdf'\n",
    "# pdf_path = '/home/om_prakash/Desktop/5/png2pdf.pdf'\n",
    "# pdf_path = '/home/om_prakash/Desktop/5/Check_IT/Degree_Seedha.jpg'\n",
    "\n",
    "\n",
    "\n",
    "# Output PDF file path\n",
    "output_pdf_path = '/home/om_prakash/Desktop/5/op.pdf'\n",
    "\n",
    "# Convert PDF pages to images\n",
    "images = convert_from_path(pdf_path)\n",
    "\n",
    "# Create a PDF writer object\n",
    "pdf_writer = canvas.Canvas(output_pdf_path, pagesize=letter)\n",
    "\n",
    "# Process each image\n",
    "for page_number, image in enumerate(images):\n",
    "    # Preprocess the image for better OCR results\n",
    "    enhancer = ImageEnhance.Contrast(image)\n",
    "    enhanced_image = enhancer.enhance(1.5)  # Increase contrast\n",
    "    inverted_image = ImageOps.invert(enhanced_image)  # Invert colors\n",
    "\n",
    "    # Perform OSD (Orientation and Script Detection) on the original image\n",
    "    osd = pytesseract.image_to_osd(image)\n",
    "\n",
    "    # Extract rotation angle and script orientation from OSD output\n",
    "    rotation_angle = int(osd.split('Rotate: ')[1].split('\\n')[0])\n",
    "    print(\"Observed Rotation Angle for Page {}: {}\".format(page_number + 1, rotation_angle))\n",
    "\n",
    "    # Determine the adjustment angle based on script orientation\n",
    "    if rotation_angle == 90:\n",
    "        adjustment_angle = -90  # Rotate anti-clockwise by 90 degrees\n",
    "    elif rotation_angle == 270:\n",
    "        adjustment_angle = -90  # Rotate clockwise by 90 degrees\n",
    "    else:\n",
    "        adjustment_angle = rotation_angle\n",
    "\n",
    "    # Rotate the image by the adjustment angle\n",
    "    adjusted_image = image.rotate(adjustment_angle, expand=True)\n",
    "\n",
    "    # Save the adjusted image to a temporary file\n",
    "    with tempfile.NamedTemporaryFile(suffix='.png') as temp_file:\n",
    "        adjusted_image.save(temp_file.name)\n",
    "\n",
    "        # Add the adjusted image as a new page to the PDF writer\n",
    "        pdf_writer.setPageSize((adjusted_image.width, adjusted_image.height))\n",
    "        pdf_writer.drawImage(temp_file.name, 0, 0)\n",
    "\n",
    "        # Show page number on the current page\n",
    "        pdf_writer.setFont(\"Helvetica\", 10)\n",
    "        pdf_writer.drawString(10, 10, \"Page {}\".format(page_number + 1))\n",
    "\n",
    "        # Save the page\n",
    "        pdf_writer.showPage()\n",
    "\n",
    "# Save the output PDF file\n",
    "pdf_writer.save()\n",
    "\n",
    "print(\"Output PDF generated successfully.\")\n"
   ]
  },
  {
   "cell_type": "code",
   "execution_count": null,
   "id": "827f5d34",
   "metadata": {},
   "outputs": [],
   "source": []
  }
 ],
 "metadata": {
  "kernelspec": {
   "display_name": "Python 3 (ipykernel)",
   "language": "python",
   "name": "python3"
  },
  "language_info": {
   "codemirror_mode": {
    "name": "ipython",
    "version": 3
   },
   "file_extension": ".py",
   "mimetype": "text/x-python",
   "name": "python",
   "nbconvert_exporter": "python",
   "pygments_lexer": "ipython3",
   "version": "3.10.9"
  }
 },
 "nbformat": 4,
 "nbformat_minor": 5
}
